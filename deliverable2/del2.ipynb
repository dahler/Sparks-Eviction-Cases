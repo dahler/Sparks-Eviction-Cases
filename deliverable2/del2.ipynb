{
 "cells": [
  {
   "cell_type": "code",
   "execution_count": 143,
   "metadata": {
    "collapsed": true,
    "pycharm": {
     "is_executing": false
    }
   },
   "outputs": [],
   "source": [
    "import pandas as pd\n",
    "import numpy as np\n",
    "import matplotlib.pyplot as plt"
   ]
  },
  {
   "cell_type": "code",
   "execution_count": 121,
   "outputs": [],
   "source": [
    "# get data from files\n",
    "courtdata = pd.read_csv('courtdata.csv', sep=',', encoding='latin-1')\n",
    "neighborhood_income = pd.read_csv(\"American_Community_Survey_2013_-_17_Estimates_by_Neighborhood__Median_Income.csv\")\n",
    "building_permits = pd.read_csv(\"Housing_Starts_Map.csv\")\n",
    "addresses = pd.read_csv(\"Master_Addresses_List.csv\")"
   ],
   "metadata": {
    "collapsed": false,
    "pycharm": {
     "name": "#%%\n",
     "is_executing": false
    }
   }
  },
  {
   "cell_type": "code",
   "execution_count": 122,
   "outputs": [
    {
     "name": "stdout",
     "text": [
      "Index(['Case Number', 'Status', 'FIle Date', 'Plaintiff', 'P-Attorney',\n",
      "       'Deffendant', 'D-Attorney', 'Property Address', 'Docket',\n",
      "       'Judgement Date', 'Judgement Type', 'JudgeMent Method',\n",
      "       'Judgement Total', 'Execution Total'],\n",
      "      dtype='object')\n",
      "Index(['Neighborhood ', 'Area', 'Median Household Income',\n",
      "       'Median Family Income', 'Latitude', 'Longitude',\n",
      "       'Neighborhood Centerpoint'],\n",
      "      dtype='object')\n",
      "Index(['ID', 'Application Address', 'Geocode Address', 'Map-Lot',\n",
      "       'Neighborhood', 'Year Permitted', 'Fiscal Year Permitted', 'Prior Use',\n",
      "       'Permitted Use', 'Housing Starts', 'Net Change in Units', 'Location'],\n",
      "      dtype='object')\n",
      "Index(['Address ID', 'Full Address', 'Street Number', 'Street Name',\n",
      "       'Building ID', 'MapLot', 'Latitude', 'Longitude', 'Type', 'Zip Code',\n",
      "       'Neighborhood', 'Election Ward', 'Election Precinct',\n",
      "       'Election Polling Address', 'Representation District',\n",
      "       'Senate District', 'CAD Reporting District', 'Police Sector',\n",
      "       'Police Car Route', 'Police Walking Route', 'Police Neighborhood',\n",
      "       'Police Business District', 'Census Tract 2010',\n",
      "       'Census Block Group 2010', 'Census Block 2010', 'Census Block ID 2010',\n",
      "       'Street Sweeping District'],\n",
      "      dtype='object')\n"
     ],
     "output_type": "stream"
    }
   ],
   "source": [
    "# preview data\n",
    "print(courtdata.columns)\n",
    "print(neighborhood_income.columns)\n",
    "print(building_permits.columns)\n",
    "print(addresses.columns)"
   ],
   "metadata": {
    "collapsed": false,
    "pycharm": {
     "name": "#%%\n",
     "is_executing": false
    }
   }
  },
  {
   "cell_type": "code",
   "execution_count": 123,
   "outputs": [],
   "source": [
    "# deliverable 1 code\n",
    "data_val = courtdata.values\n",
    "\n",
    "plaintiff = data_val[:,3]\n",
    "attorney = data_val[:,6]\n",
    "judgment = data_val[:,10]\n",
    "appear = data_val[:,11]\n",
    "money = data_val[:,12]\n",
    "\n",
    "#print(attorney)\n",
    "#print(judgment)\n",
    "\n",
    "nan = np.nan\n",
    "\n",
    "total_cases = len(attorney)\n",
    "\n",
    "plaintiff_data = np.zeros((total_cases,1))\n",
    "attorney_data = np.zeros((total_cases,1))\n",
    "judgment_data = np.zeros((total_cases,1))\n",
    "appear_data = np.zeros((total_cases,1))\n",
    "money_data = np.zeros((total_cases,1))\n",
    "\n",
    "for i in range(total_cases):\n",
    "    if isinstance(attorney[i], str):\n",
    "        attorney_data[i] = 0 # with representation\n",
    "    else:\n",
    "        attorney_data[i] = 1 # no representation\n",
    "    if judgment[i] == 'Judgment for Plaintiff for Possession and Rent':\n",
    "        judgment_data[i] = 1 # conviction \n",
    "    else:\n",
    "        judgment_data[i] = 0 # no conviction\n",
    "    if appear[i] == 'after defendant(s) failed to appear':\n",
    "        appear_data[i] = 0 # no show\n",
    "    else: \n",
    "        appear_data[i] = 1 # showed up\n",
    "    if isinstance(money[i], str):\n",
    "        money[i] = money[i].replace(',','')\n",
    "    if isinstance(money[i], float):\n",
    "        money_data[i] = 0 # no money due\n",
    "    else:\n",
    "        money_data[i] = float(money[i]) # money due\n",
    "    if plaintiff[i] == 'Cambridge Housing Authority':\n",
    "        plaintiff_data[i] = 1 # cambridge housing authority \n",
    "    else:\n",
    "        plaintiff_data[i] = 0 # other\n",
    "        \n",
    "data_total = np.hstack((plaintiff_data,attorney_data,judgment_data,appear_data,money_data))\n",
    "#print(data_total) \n",
    "  \n",
    "total = data_total/data_total.max(axis=0)\n",
    "#print(total) \n",
    "\n",
    "# USE THIS FOR DELIVERABLE 1\n",
    "total_pd = pd.DataFrame(total, columns=['plaintiff', 'attorney', 'judgement', 'appeared', 'payment'])\n",
    "\n"
   ],
   "metadata": {
    "collapsed": false,
    "pycharm": {
     "name": "#%%\n",
     "is_executing": false
    }
   }
  },
  {
   "cell_type": "code",
   "execution_count": 124,
   "outputs": [],
   "source": [
    "# add address data\n",
    "total_pd['address'] = courtdata['Property Address']\n",
    "\n",
    "def transform_address(addr):\n",
    "    \"\"\"transform address from court data into the form used by the \n",
    "       master address list\n",
    "    \"\"\"\n",
    "    result = None\n",
    "    for i in range(len(addr)):\n",
    "        if addr[i] == '#' or addr[i:i+5] == 'Unit' or addr[i:i+3] == 'Apt':\n",
    "            result = addr[:i-1]\n",
    "            break\n",
    "    if not result:\n",
    "        return\n",
    "    if result[-6:] == 'Street':\n",
    "        result = result[:-7] + ' St'\n",
    "    elif result[-6:] == 'Avenue':\n",
    "        result = result[:-7] + \" Ave\"\n",
    "    elif result[-5:] == 'Court':\n",
    "        result = result[:-6] + ' Ct'\n",
    "    elif result[-5:] == 'Place':\n",
    "        result = result[:-6] + ' Pl'\n",
    "    elif result[-5:] == 'Drive':\n",
    "        result = result[:-6] + ' Dr'\n",
    "    elif result[-4:] == 'Road':\n",
    "        result = result[:-5] + ' Rd'\n",
    "    elif result[-7:] == 'Gardens':\n",
    "        result = result[:-8] + ' Gdns'\n",
    "    else:\n",
    "        result = None\n",
    "    return result\n",
    "\n",
    "total_pd = total_pd.assign(address=lambda df: df.address.apply(transform_address))"
   ],
   "metadata": {
    "collapsed": false,
    "pycharm": {
     "name": "#%%\n",
     "is_executing": false
    }
   }
  },
  {
   "cell_type": "code",
   "execution_count": 125,
   "outputs": [],
   "source": [
    "#drop rows with addresses that are not in the general format (apt. number is prepended with #)\n",
    "total_pd = total_pd.dropna()"
   ],
   "metadata": {
    "collapsed": false,
    "pycharm": {
     "name": "#%%\n",
     "is_executing": false
    }
   }
  },
  {
   "cell_type": "code",
   "execution_count": 126,
   "outputs": [],
   "source": [
    "# get geospatial coordinates\n",
    "def getCoords(addr):\n",
    "    lat = None\n",
    "    long = None\n",
    "    matches = addresses[addresses['Full Address'] == addr]\n",
    "    if not len(matches) == 0:\n",
    "        lat = matches.Latitude.iloc[0]\n",
    "        long = matches.Longitude.iloc[0]\n",
    "    return lat, long\n",
    "\n",
    "def getNeighborhood(addr):\n",
    "    neighborhood = None\n",
    "    matches = addresses[addresses['Full Address'] == addr]\n",
    "    if not len(matches) == 0:\n",
    "        neighborhood = matches.Neighborhood.iloc[0]\n",
    "    return neighborhood"
   ],
   "metadata": {
    "collapsed": false,
    "pycharm": {
     "name": "#%%\n",
     "is_executing": false
    }
   }
  },
  {
   "cell_type": "code",
   "execution_count": 127,
   "outputs": [],
   "source": [
    "total_pd = total_pd.assign(coords=lambda df: df.address.apply(getCoords))\n",
    "total_pd = total_pd.assign(neighborhood=lambda df: df.address.apply(getNeighborhood))"
   ],
   "metadata": {
    "collapsed": false,
    "pycharm": {
     "name": "#%%\n",
     "is_executing": false
    }
   }
  },
  {
   "cell_type": "code",
   "execution_count": 139,
   "outputs": [
    {
     "name": "stderr",
     "text": [
      "<ipython-input-139-1391dda110c1>:5: UserWarning: Boolean Series key will be reindexed to match DataFrame index.\n",
      "  x = len(total_pd[total_pd['neighborhood'] == loc][total_pd.judgement == 1.0])\n",
      "<ipython-input-139-1391dda110c1>:6: UserWarning: Boolean Series key will be reindexed to match DataFrame index.\n",
      "  y = len(total_pd[total_pd['neighborhood'] == loc][total_pd.judgement == 0.0])\n"
     ],
     "output_type": "stream"
    }
   ],
   "source": [
    "# look at some basic stats about neighborhood\n",
    "\n",
    "# for each neighborhood the first element is the number evicted and the second is the number not evicted\n",
    "freqs = {}\n",
    "\n",
    "def getfreq(loc):\n",
    "    x = len(total_pd[total_pd['neighborhood'] == loc][total_pd.judgement == 1.0])\n",
    "    y = len(total_pd[total_pd['neighborhood'] == loc][total_pd.judgement == 0.0])\n",
    "    freqs.update({loc: (x, y)})\n",
    "\n",
    "for loc in neighborhood_income['Neighborhood ']:\n",
    "    getfreq(loc)"
   ],
   "metadata": {
    "collapsed": false,
    "pycharm": {
     "name": "#%%\n",
     "is_executing": false
    }
   }
  },
  {
   "cell_type": "code",
   "execution_count": 160,
   "outputs": [
    {
     "data": {
      "text/plain": "<Figure size 432x288 with 1 Axes>",
      "image/png": "[encoded data removed]"
     },
     "metadata": {
      "needs_background": "light"
     },
     "output_type": "display_data"
    },
    {
     "name": "stdout",
     "text": [
      "x axis labels:\n",
      "East Cambridge: 0\n",
      "MIT: 1\n",
      "Wellington-Harrington: 2\n",
      "The Port: 3\n",
      "Cambridgeport: 4\n",
      "Mid-Cambridge: 5\n",
      "Riverside: 6\n",
      "Agassiz: 7\n",
      "Neighborhood Nine: 8\n",
      "West Cambridge: 9\n",
      "North Cambridge: 10\n",
      "Cambridge Highlands: 11\n",
      "Strawberry Hill: 12\n",
      "City of Cambridge: 13\n"
     ],
     "output_type": "stream"
    }
   ],
   "source": [
    "#show difference in frequencies of evictions\n",
    "width = 0.35\n",
    "ind = np.arange(len(freqs))\n",
    "\n",
    "evictions = [freqs[x][0] for x in freqs]\n",
    "non_evictions = [freqs[x][1] for x in freqs]\n",
    "\n",
    "plt.bar(ind, evictions, width, label='Evictions')\n",
    "plt.bar(ind+width, non_evictions, width, label='Non-Evictions')\n",
    "\n",
    "plt.ylabel('Freq')\n",
    "plt.title('Freq of Eviction by neighborhood')\n",
    "plt.legend(loc='best')\n",
    "\n",
    "plt.xticks(ind + width / 2, range(len(freqs)))\n",
    "\n",
    "plt.show()\n",
    "\n",
    "print('x axis labels:')\n",
    "count = 0\n",
    "for x in freqs:\n",
    "    print(x + \":\", count)\n",
    "    count += 1"
   ],
   "metadata": {
    "collapsed": false,
    "pycharm": {
     "name": "#%%\n",
     "is_executing": false
    }
   }
  },
  {
   "cell_type": "code",
   "execution_count": 163,
   "outputs": [
    {
     "name": "stdout",
     "text": [
      "Ratio of Eviction judgements to non-eviction judgements\n",
      "\n",
      "East Cambridge: 1.819672131147541\n",
      "MIT: undefined\n",
      "Wellington-Harrington: 1.35\n",
      "The Port: 3.966666666666667\n",
      "Cambridgeport: 2.5142857142857142\n",
      "Mid-Cambridge: 2.0454545454545454\n",
      "Riverside: 4.2727272727272725\n",
      "Agassiz: 1.0\n",
      "Neighborhood Nine: 1.7222222222222223\n",
      "West Cambridge: 5.0\n",
      "North Cambridge: 2.473684210526316\n",
      "Cambridge Highlands: 1.0\n",
      "Strawberry Hill: 2.5\n",
      "City of Cambridge: undefined\n"
     ],
     "output_type": "stream"
    }
   ],
   "source": [
    "print('Ratio of Eviction judgements to non-eviction judgements')\n",
    "print()\n",
    "count = 0\n",
    "for x in freqs:\n",
    "    if freqs[x][1] != 0:\n",
    "        print(x + \":\", freqs[x][0] / freqs[x][1])\n",
    "    else:\n",
    "        print(x + \":\", 'undefined')\n",
    "    count += 1\n"
   ],
   "metadata": {
    "collapsed": false,
    "pycharm": {
     "name": "#%%\n",
     "is_executing": false
    }
   }
  },
  {
   "cell_type": "code",
   "execution_count": 173,
   "outputs": [
    {
     "data": {
      "text/plain": "<Figure size 432x288 with 1 Axes>",
      "image/png": "[encoded data removed]"
     },
     "metadata": {
      "needs_background": "light"
     },
     "output_type": "display_data"
    },
    {
     "data": {
      "text/plain": "<Figure size 432x288 with 1 Axes>",
      "image/png": "[encoded data removed]"
     },
     "metadata": {
      "needs_background": "light"
     },
     "output_type": "display_data"
    },
    {
     "name": "stdout",
     "text": [
      "[0, 1.819672131147541, 1.35, 3.966666666666667, 2.5142857142857142, 2.0454545454545454, 4.2727272727272725, 1.0, 1.7222222222222223, 5.0, 2.473684210526316, 1.0, 2.5, 0] 0     121056.20\n",
      "1     106249.75\n",
      "2      81612.05\n",
      "3      78124.88\n",
      "4     126371.90\n",
      "5     134062.14\n",
      "6      82049.48\n",
      "7     138042.96\n",
      "8     148577.26\n",
      "9     166421.96\n",
      "10    111958.18\n",
      "11     84335.07\n",
      "12     89543.44\n",
      "13    118033.74\n",
      "Name: Median Family Income, dtype: float64\n"
     ],
     "output_type": "stream"
    }
   ],
   "source": [
    "# eviction ratio vs. income\n",
    "x = [0] + [freqs[x][0] / freqs[x][1] for x in freqs if freqs[x][1] != 0] + [0]\n",
    "y = neighborhood_income['Median Household Income']\n",
    "plt.scatter(x, y)\n",
    "plt.title('Median Household Income vs. Ratio of evictions')\n",
    "plt.show()\n",
    "\n",
    "x = [0] + [freqs[x][0] / freqs[x][1] for x in freqs if freqs[x][1] != 0] + [0]\n",
    "y = neighborhood_income['Median Family Income']\n",
    "plt.scatter(x, y)\n",
    "plt.title('Median Family Income vs. Ratio of evictions')\n",
    "plt.show()\n",
    "\n",
    "print(x, y)"
   ],
   "metadata": {
    "collapsed": false,
    "pycharm": {
     "name": "#%%\n",
     "is_executing": false
    }
   }
  }
 ],
 "metadata": {
  "kernelspec": {
   "display_name": "Python 3",
   "language": "python",
   "name": "python3"
  },
  "language_info": {
   "codemirror_mode": {
    "name": "ipython",
    "version": 2
   },
   "file_extension": ".py",
   "mimetype": "text/x-python",
   "name": "python",
   "nbconvert_exporter": "python",
   "pygments_lexer": "ipython2",
   "version": "2.7.6"
  },
  "pycharm": {
   "stem_cell": {
    "cell_type": "raw",
    "source": [],
    "metadata": {
     "collapsed": false
    }
   }
  }
 },
 "nbformat": 4,
 "nbformat_minor": 0
}